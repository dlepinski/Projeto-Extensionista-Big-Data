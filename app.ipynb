{
 "cells": [
  {
   "cell_type": "markdown",
   "id": "53bf5e75",
   "metadata": {},
   "source": [
    "|Faculdade |Curso|Disciplina |Professor|Ano|\n",
    "| :- | :- | :- | :- | :- |\n",
    "|Estácio de São Paulo|ADS|Tópicos de Big Data em Python|Prof. Fabio Oliveira|2025|"
   ]
  },
  {
   "cell_type": "markdown",
   "id": "cde9e268",
   "metadata": {},
   "source": [
    "# Análise de Dados\n",
    "\n",
    "### 📘 Dicionário de Dados - Base de Filmes\n",
    "\n",
    "Este dicionário descreve os campos presentes na base de dados de filmes utilizada para análise.\n",
    "\n",
    "| Nome do Campo       | Tipo de Dado | Descrição                                               | Valores Possíveis / Exemplos             |\n",
    "|---------------------|--------------|----------------------------------------------------------|------------------------------------------|\n",
    "| `cliente_id`        | Inteiro      | Identificador único do cliente                          | 1001, 1002, 1003                          |\n",
    "| `nome`              | Texto        | Nome completo do cliente                                | \"Maria Silva\", \"João Souza\"              |\n",
    "| `data_nascimento`   | Data         | Data de nascimento do cliente                           | \"1985-07-23\"                              |\n",
    "| `sexo`              | Texto        | Gênero do cliente                                        | \"Feminino\", \"Masculino\", \"Outro\"         |\n",
    "| `estado`            | Texto        | Estado de residência                                     | \"SP\", \"RJ\", \"MG\", \"RS\"                   |\n",
    "| `renda_mensal`      | Decimal      | Renda mensal declarada                                   | 2500.00, 7800.50                          |\n",
    "| `data_cadastro`     | Data         | Data de cadastro na plataforma                          | \"2021-03-15\"                              |\n",
    "| `ativo`             | Booleano     | Indica se o cliente está ativo                          | `True`, `False`                          |\n",
    "| `categoria_cliente` | Texto        | Segmentação do cliente com base em perfil de consumo     | \"Premium\", \"Regular\", \"Básico\"           |\n",
    "| `score_credito`     | Inteiro      | Pontuação de crédito atribuída                          | 300–850                                  |\n",
    "\n",
    "\n"
   ]
  }
 ],
 "metadata": {
  "kernelspec": {
   "display_name": "Python 3",
   "language": "python",
   "name": "python3"
  },
  "language_info": {
   "codemirror_mode": {
    "name": "ipython",
    "version": 3
   },
   "file_extension": ".py",
   "mimetype": "text/x-python",
   "name": "python",
   "nbconvert_exporter": "python",
   "pygments_lexer": "ipython3",
   "version": "3.13.3"
  }
 },
 "nbformat": 4,
 "nbformat_minor": 5
}
